{
  "nbformat": 4,
  "nbformat_minor": 0,
  "metadata": {
    "colab": {
      "provenance": []
    },
    "kernelspec": {
      "name": "python3",
      "display_name": "Python 3"
    },
    "language_info": {
      "name": "python"
    }
  },
  "cells": [
    {
      "cell_type": "code",
      "execution_count": null,
      "metadata": {
        "id": "U3_6rmgwyf0w"
      },
      "outputs": [],
      "source": [
        "import numpy as np\n",
        "import matplotlib.pyplot as plt\n",
        "import pandas as pd\n",
        "from sklearn.preprocessing import MinMaxScaler\n",
        "from keras import layers\n",
        "from keras.models import Sequential"
      ]
    },
    {
      "cell_type": "code",
      "source": [
        "dataset_train = pd.read_csv('trainset.csv')"
      ],
      "metadata": {
        "id": "kruLSYATy7YI"
      },
      "execution_count": null,
      "outputs": []
    },
    {
      "cell_type": "code",
      "source": [
        "dataset_train.columns\n"
      ],
      "metadata": {
        "colab": {
          "base_uri": "https://localhost:8080/"
        },
        "id": "qZ2YSVemy7xD",
        "outputId": "a2ae91bf-23d4-44f3-81e5-8d98f783f7ed"
      },
      "execution_count": null,
      "outputs": [
        {
          "output_type": "execute_result",
          "data": {
            "text/plain": [
              "Index(['Date', 'Open', 'High', 'Low', 'Close', 'Adj Close', 'Volume'], dtype='object')"
            ]
          },
          "metadata": {},
          "execution_count": 3
        }
      ]
    },
    {
      "cell_type": "code",
      "source": [
        "dataset_train.head()"
      ],
      "metadata": {
        "colab": {
          "base_uri": "https://localhost:8080/",
          "height": 206
        },
        "id": "Ih4_kt3qy-UW",
        "outputId": "321d0708-7f00-4719-c056-cf17e956cdc0"
      },
      "execution_count": null,
      "outputs": [
        {
          "output_type": "execute_result",
          "data": {
            "text/plain": [
              "         Date        Open        High         Low       Close   Adj Close  \\\n",
              "0  2013-01-02  357.385559  361.151062  355.959839  359.288177  359.288177   \n",
              "1  2013-01-03  360.122742  363.600128  358.031342  359.496826  359.496826   \n",
              "2  2013-01-04  362.313507  368.339294  361.488861  366.600616  366.600616   \n",
              "3  2013-01-07  365.348755  367.301056  362.929504  365.001007  365.001007   \n",
              "4  2013-01-08  365.393463  365.771027  359.874359  364.280701  364.280701   \n",
              "\n",
              "    Volume  \n",
              "0  5115500  \n",
              "1  4666500  \n",
              "2  5562800  \n",
              "3  3332900  \n",
              "4  3373900  "
            ],
            "text/html": [
              "\n",
              "  <div id=\"df-e538c8d6-fe83-4b1e-8328-f20c4d38a278\" class=\"colab-df-container\">\n",
              "    <div>\n",
              "<style scoped>\n",
              "    .dataframe tbody tr th:only-of-type {\n",
              "        vertical-align: middle;\n",
              "    }\n",
              "\n",
              "    .dataframe tbody tr th {\n",
              "        vertical-align: top;\n",
              "    }\n",
              "\n",
              "    .dataframe thead th {\n",
              "        text-align: right;\n",
              "    }\n",
              "</style>\n",
              "<table border=\"1\" class=\"dataframe\">\n",
              "  <thead>\n",
              "    <tr style=\"text-align: right;\">\n",
              "      <th></th>\n",
              "      <th>Date</th>\n",
              "      <th>Open</th>\n",
              "      <th>High</th>\n",
              "      <th>Low</th>\n",
              "      <th>Close</th>\n",
              "      <th>Adj Close</th>\n",
              "      <th>Volume</th>\n",
              "    </tr>\n",
              "  </thead>\n",
              "  <tbody>\n",
              "    <tr>\n",
              "      <th>0</th>\n",
              "      <td>2013-01-02</td>\n",
              "      <td>357.385559</td>\n",
              "      <td>361.151062</td>\n",
              "      <td>355.959839</td>\n",
              "      <td>359.288177</td>\n",
              "      <td>359.288177</td>\n",
              "      <td>5115500</td>\n",
              "    </tr>\n",
              "    <tr>\n",
              "      <th>1</th>\n",
              "      <td>2013-01-03</td>\n",
              "      <td>360.122742</td>\n",
              "      <td>363.600128</td>\n",
              "      <td>358.031342</td>\n",
              "      <td>359.496826</td>\n",
              "      <td>359.496826</td>\n",
              "      <td>4666500</td>\n",
              "    </tr>\n",
              "    <tr>\n",
              "      <th>2</th>\n",
              "      <td>2013-01-04</td>\n",
              "      <td>362.313507</td>\n",
              "      <td>368.339294</td>\n",
              "      <td>361.488861</td>\n",
              "      <td>366.600616</td>\n",
              "      <td>366.600616</td>\n",
              "      <td>5562800</td>\n",
              "    </tr>\n",
              "    <tr>\n",
              "      <th>3</th>\n",
              "      <td>2013-01-07</td>\n",
              "      <td>365.348755</td>\n",
              "      <td>367.301056</td>\n",
              "      <td>362.929504</td>\n",
              "      <td>365.001007</td>\n",
              "      <td>365.001007</td>\n",
              "      <td>3332900</td>\n",
              "    </tr>\n",
              "    <tr>\n",
              "      <th>4</th>\n",
              "      <td>2013-01-08</td>\n",
              "      <td>365.393463</td>\n",
              "      <td>365.771027</td>\n",
              "      <td>359.874359</td>\n",
              "      <td>364.280701</td>\n",
              "      <td>364.280701</td>\n",
              "      <td>3373900</td>\n",
              "    </tr>\n",
              "  </tbody>\n",
              "</table>\n",
              "</div>\n",
              "    <div class=\"colab-df-buttons\">\n",
              "\n",
              "  <div class=\"colab-df-container\">\n",
              "    <button class=\"colab-df-convert\" onclick=\"convertToInteractive('df-e538c8d6-fe83-4b1e-8328-f20c4d38a278')\"\n",
              "            title=\"Convert this dataframe to an interactive table.\"\n",
              "            style=\"display:none;\">\n",
              "\n",
              "  <svg xmlns=\"http://www.w3.org/2000/svg\" height=\"24px\" viewBox=\"0 -960 960 960\">\n",
              "    <path d=\"M120-120v-720h720v720H120Zm60-500h600v-160H180v160Zm220 220h160v-160H400v160Zm0 220h160v-160H400v160ZM180-400h160v-160H180v160Zm440 0h160v-160H620v160ZM180-180h160v-160H180v160Zm440 0h160v-160H620v160Z\"/>\n",
              "  </svg>\n",
              "    </button>\n",
              "\n",
              "  <style>\n",
              "    .colab-df-container {\n",
              "      display:flex;\n",
              "      gap: 12px;\n",
              "    }\n",
              "\n",
              "    .colab-df-convert {\n",
              "      background-color: #E8F0FE;\n",
              "      border: none;\n",
              "      border-radius: 50%;\n",
              "      cursor: pointer;\n",
              "      display: none;\n",
              "      fill: #1967D2;\n",
              "      height: 32px;\n",
              "      padding: 0 0 0 0;\n",
              "      width: 32px;\n",
              "    }\n",
              "\n",
              "    .colab-df-convert:hover {\n",
              "      background-color: #E2EBFA;\n",
              "      box-shadow: 0px 1px 2px rgba(60, 64, 67, 0.3), 0px 1px 3px 1px rgba(60, 64, 67, 0.15);\n",
              "      fill: #174EA6;\n",
              "    }\n",
              "\n",
              "    .colab-df-buttons div {\n",
              "      margin-bottom: 4px;\n",
              "    }\n",
              "\n",
              "    [theme=dark] .colab-df-convert {\n",
              "      background-color: #3B4455;\n",
              "      fill: #D2E3FC;\n",
              "    }\n",
              "\n",
              "    [theme=dark] .colab-df-convert:hover {\n",
              "      background-color: #434B5C;\n",
              "      box-shadow: 0px 1px 3px 1px rgba(0, 0, 0, 0.15);\n",
              "      filter: drop-shadow(0px 1px 2px rgba(0, 0, 0, 0.3));\n",
              "      fill: #FFFFFF;\n",
              "    }\n",
              "  </style>\n",
              "\n",
              "    <script>\n",
              "      const buttonEl =\n",
              "        document.querySelector('#df-e538c8d6-fe83-4b1e-8328-f20c4d38a278 button.colab-df-convert');\n",
              "      buttonEl.style.display =\n",
              "        google.colab.kernel.accessAllowed ? 'block' : 'none';\n",
              "\n",
              "      async function convertToInteractive(key) {\n",
              "        const element = document.querySelector('#df-e538c8d6-fe83-4b1e-8328-f20c4d38a278');\n",
              "        const dataTable =\n",
              "          await google.colab.kernel.invokeFunction('convertToInteractive',\n",
              "                                                    [key], {});\n",
              "        if (!dataTable) return;\n",
              "\n",
              "        const docLinkHtml = 'Like what you see? Visit the ' +\n",
              "          '<a target=\"_blank\" href=https://colab.research.google.com/notebooks/data_table.ipynb>data table notebook</a>'\n",
              "          + ' to learn more about interactive tables.';\n",
              "        element.innerHTML = '';\n",
              "        dataTable['output_type'] = 'display_data';\n",
              "        await google.colab.output.renderOutput(dataTable, element);\n",
              "        const docLink = document.createElement('div');\n",
              "        docLink.innerHTML = docLinkHtml;\n",
              "        element.appendChild(docLink);\n",
              "      }\n",
              "    </script>\n",
              "  </div>\n",
              "\n",
              "\n",
              "<div id=\"df-e588860d-1c03-4ee5-8e06-98a49ad5b861\">\n",
              "  <button class=\"colab-df-quickchart\" onclick=\"quickchart('df-e588860d-1c03-4ee5-8e06-98a49ad5b861')\"\n",
              "            title=\"Suggest charts\"\n",
              "            style=\"display:none;\">\n",
              "\n",
              "<svg xmlns=\"http://www.w3.org/2000/svg\" height=\"24px\"viewBox=\"0 0 24 24\"\n",
              "     width=\"24px\">\n",
              "    <g>\n",
              "        <path d=\"M19 3H5c-1.1 0-2 .9-2 2v14c0 1.1.9 2 2 2h14c1.1 0 2-.9 2-2V5c0-1.1-.9-2-2-2zM9 17H7v-7h2v7zm4 0h-2V7h2v10zm4 0h-2v-4h2v4z\"/>\n",
              "    </g>\n",
              "</svg>\n",
              "  </button>\n",
              "\n",
              "<style>\n",
              "  .colab-df-quickchart {\n",
              "      --bg-color: #E8F0FE;\n",
              "      --fill-color: #1967D2;\n",
              "      --hover-bg-color: #E2EBFA;\n",
              "      --hover-fill-color: #174EA6;\n",
              "      --disabled-fill-color: #AAA;\n",
              "      --disabled-bg-color: #DDD;\n",
              "  }\n",
              "\n",
              "  [theme=dark] .colab-df-quickchart {\n",
              "      --bg-color: #3B4455;\n",
              "      --fill-color: #D2E3FC;\n",
              "      --hover-bg-color: #434B5C;\n",
              "      --hover-fill-color: #FFFFFF;\n",
              "      --disabled-bg-color: #3B4455;\n",
              "      --disabled-fill-color: #666;\n",
              "  }\n",
              "\n",
              "  .colab-df-quickchart {\n",
              "    background-color: var(--bg-color);\n",
              "    border: none;\n",
              "    border-radius: 50%;\n",
              "    cursor: pointer;\n",
              "    display: none;\n",
              "    fill: var(--fill-color);\n",
              "    height: 32px;\n",
              "    padding: 0;\n",
              "    width: 32px;\n",
              "  }\n",
              "\n",
              "  .colab-df-quickchart:hover {\n",
              "    background-color: var(--hover-bg-color);\n",
              "    box-shadow: 0 1px 2px rgba(60, 64, 67, 0.3), 0 1px 3px 1px rgba(60, 64, 67, 0.15);\n",
              "    fill: var(--button-hover-fill-color);\n",
              "  }\n",
              "\n",
              "  .colab-df-quickchart-complete:disabled,\n",
              "  .colab-df-quickchart-complete:disabled:hover {\n",
              "    background-color: var(--disabled-bg-color);\n",
              "    fill: var(--disabled-fill-color);\n",
              "    box-shadow: none;\n",
              "  }\n",
              "\n",
              "  .colab-df-spinner {\n",
              "    border: 2px solid var(--fill-color);\n",
              "    border-color: transparent;\n",
              "    border-bottom-color: var(--fill-color);\n",
              "    animation:\n",
              "      spin 1s steps(1) infinite;\n",
              "  }\n",
              "\n",
              "  @keyframes spin {\n",
              "    0% {\n",
              "      border-color: transparent;\n",
              "      border-bottom-color: var(--fill-color);\n",
              "      border-left-color: var(--fill-color);\n",
              "    }\n",
              "    20% {\n",
              "      border-color: transparent;\n",
              "      border-left-color: var(--fill-color);\n",
              "      border-top-color: var(--fill-color);\n",
              "    }\n",
              "    30% {\n",
              "      border-color: transparent;\n",
              "      border-left-color: var(--fill-color);\n",
              "      border-top-color: var(--fill-color);\n",
              "      border-right-color: var(--fill-color);\n",
              "    }\n",
              "    40% {\n",
              "      border-color: transparent;\n",
              "      border-right-color: var(--fill-color);\n",
              "      border-top-color: var(--fill-color);\n",
              "    }\n",
              "    60% {\n",
              "      border-color: transparent;\n",
              "      border-right-color: var(--fill-color);\n",
              "    }\n",
              "    80% {\n",
              "      border-color: transparent;\n",
              "      border-right-color: var(--fill-color);\n",
              "      border-bottom-color: var(--fill-color);\n",
              "    }\n",
              "    90% {\n",
              "      border-color: transparent;\n",
              "      border-bottom-color: var(--fill-color);\n",
              "    }\n",
              "  }\n",
              "</style>\n",
              "\n",
              "  <script>\n",
              "    async function quickchart(key) {\n",
              "      const quickchartButtonEl =\n",
              "        document.querySelector('#' + key + ' button');\n",
              "      quickchartButtonEl.disabled = true;  // To prevent multiple clicks.\n",
              "      quickchartButtonEl.classList.add('colab-df-spinner');\n",
              "      try {\n",
              "        const charts = await google.colab.kernel.invokeFunction(\n",
              "            'suggestCharts', [key], {});\n",
              "      } catch (error) {\n",
              "        console.error('Error during call to suggestCharts:', error);\n",
              "      }\n",
              "      quickchartButtonEl.classList.remove('colab-df-spinner');\n",
              "      quickchartButtonEl.classList.add('colab-df-quickchart-complete');\n",
              "    }\n",
              "    (() => {\n",
              "      let quickchartButtonEl =\n",
              "        document.querySelector('#df-e588860d-1c03-4ee5-8e06-98a49ad5b861 button');\n",
              "      quickchartButtonEl.style.display =\n",
              "        google.colab.kernel.accessAllowed ? 'block' : 'none';\n",
              "    })();\n",
              "  </script>\n",
              "</div>\n",
              "\n",
              "    </div>\n",
              "  </div>\n"
            ],
            "application/vnd.google.colaboratory.intrinsic+json": {
              "type": "dataframe",
              "variable_name": "dataset_train",
              "summary": "{\n  \"name\": \"dataset_train\",\n  \"rows\": 1259,\n  \"fields\": [\n    {\n      \"column\": \"Date\",\n      \"properties\": {\n        \"dtype\": \"object\",\n        \"num_unique_values\": 1259,\n        \"samples\": [\n          \"2013-04-23\",\n          \"2017-01-30\",\n          \"2013-03-06\"\n        ],\n        \"semantic_type\": \"\",\n        \"description\": \"\"\n      }\n    },\n    {\n      \"column\": \"Open\",\n      \"properties\": {\n        \"dtype\": \"number\",\n        \"std\": 175.63057351209417,\n        \"min\": 350.053253,\n        \"max\": 1075.199951,\n        \"num_unique_values\": 1228,\n        \"samples\": [\n          727.580017,\n          524.118103,\n          553.40564\n        ],\n        \"semantic_type\": \"\",\n        \"description\": \"\"\n      }\n    },\n    {\n      \"column\": \"High\",\n      \"properties\": {\n        \"dtype\": \"number\",\n        \"std\": 176.62741611717948,\n        \"min\": 350.391052,\n        \"max\": 1078.48999,\n        \"num_unique_values\": 1239,\n        \"samples\": [\n          580.309143,\n          577.489014,\n          517.056946\n        ],\n        \"semantic_type\": \"\",\n        \"description\": \"\"\n      }\n    },\n    {\n      \"column\": \"Low\",\n      \"properties\": {\n        \"dtype\": \"number\",\n        \"std\": 174.73281352959697,\n        \"min\": 345.512787,\n        \"max\": 1063.550049,\n        \"num_unique_values\": 1240,\n        \"samples\": [\n          576.052551,\n          568.403076,\n          518.469177\n        ],\n        \"semantic_type\": \"\",\n        \"description\": \"\"\n      }\n    },\n    {\n      \"column\": \"Close\",\n      \"properties\": {\n        \"dtype\": \"number\",\n        \"std\": 175.82099273815913,\n        \"min\": 349.164032,\n        \"max\": 1077.140015,\n        \"num_unique_values\": 1245,\n        \"samples\": [\n          749.460022,\n          557.812866,\n          927.330017\n        ],\n        \"semantic_type\": \"\",\n        \"description\": \"\"\n      }\n    },\n    {\n      \"column\": \"Adj Close\",\n      \"properties\": {\n        \"dtype\": \"number\",\n        \"std\": 175.82099273815913,\n        \"min\": 349.164032,\n        \"max\": 1077.140015,\n        \"num_unique_values\": 1245,\n        \"samples\": [\n          749.460022,\n          557.812866,\n          927.330017\n        ],\n        \"semantic_type\": \"\",\n        \"description\": \"\"\n      }\n    },\n    {\n      \"column\": \"Volume\",\n      \"properties\": {\n        \"dtype\": \"number\",\n        \"std\": 1672159,\n        \"min\": 7900,\n        \"max\": 23283100,\n        \"num_unique_values\": 1228,\n        \"samples\": [\n          1837200,\n          2000000,\n          1477800\n        ],\n        \"semantic_type\": \"\",\n        \"description\": \"\"\n      }\n    }\n  ]\n}"
            }
          },
          "metadata": {},
          "execution_count": 4
        }
      ]
    },
    {
      "cell_type": "code",
      "source": [
        "train_set = dataset_train.iloc[:,1:2].values"
      ],
      "metadata": {
        "id": "hZ7aW2FvzAUx"
      },
      "execution_count": null,
      "outputs": []
    },
    {
      "cell_type": "code",
      "source": [
        "type(train_set)"
      ],
      "metadata": {
        "colab": {
          "base_uri": "https://localhost:8080/"
        },
        "id": "qKInfApxzCnP",
        "outputId": "9a55a46d-2d37-4956-a0bf-0459fe2d7c44"
      },
      "execution_count": null,
      "outputs": [
        {
          "output_type": "execute_result",
          "data": {
            "text/plain": [
              "numpy.ndarray"
            ]
          },
          "metadata": {},
          "execution_count": 6
        }
      ]
    },
    {
      "cell_type": "code",
      "source": [
        "train_set.shape"
      ],
      "metadata": {
        "colab": {
          "base_uri": "https://localhost:8080/"
        },
        "id": "kBjeyNnKzFNy",
        "outputId": "a71d35ad-1d6b-497a-923a-c94f88f6a94f"
      },
      "execution_count": null,
      "outputs": [
        {
          "output_type": "execute_result",
          "data": {
            "text/plain": [
              "(1259, 1)"
            ]
          },
          "metadata": {},
          "execution_count": 7
        }
      ]
    },
    {
      "cell_type": "code",
      "source": [
        "sc = MinMaxScaler(feature_range=(0,1))\n",
        "training_set_scaled = sc.fit_transform(train_set)"
      ],
      "metadata": {
        "id": "sKIxpNEEzHPU"
      },
      "execution_count": null,
      "outputs": []
    },
    {
      "cell_type": "code",
      "source": [
        "training_set_scaled.shape"
      ],
      "metadata": {
        "colab": {
          "base_uri": "https://localhost:8080/"
        },
        "id": "ctNP3OJSzJkn",
        "outputId": "a155142e-881e-4bbc-bfdf-b6e9d112f7b3"
      },
      "execution_count": null,
      "outputs": [
        {
          "output_type": "execute_result",
          "data": {
            "text/plain": [
              "(1259, 1)"
            ]
          },
          "metadata": {},
          "execution_count": 9
        }
      ]
    },
    {
      "cell_type": "code",
      "source": [
        "X_train_array = []\n",
        "y_train_array = []\n",
        "for i in range(60, 1259):\n",
        "  X_train_array.append(training_set_scaled[i-60:i,0])\n",
        "  y_train_array.append(training_set_scaled[i,0])\n",
        "X_train, y_train = np.array(X_train_array), np.array(y_train_array)\n",
        "X_train1 = X_train.reshape((X_train.shape[0], X_train.shape[1],1))"
      ],
      "metadata": {
        "id": "S7IwabB8zLrC"
      },
      "execution_count": null,
      "outputs": []
    },
    {
      "cell_type": "code",
      "source": [
        "X_train.shape"
      ],
      "metadata": {
        "colab": {
          "base_uri": "https://localhost:8080/"
        },
        "id": "_1K_3BZqzU9S",
        "outputId": "33789ae2-92e2-4813-cc50-3cb204d03a09"
      },
      "execution_count": null,
      "outputs": [
        {
          "output_type": "execute_result",
          "data": {
            "text/plain": [
              "(1199, 60)"
            ]
          },
          "metadata": {},
          "execution_count": 11
        }
      ]
    },
    {
      "cell_type": "code",
      "source": [
        "length = 60\n",
        "n_features = 1"
      ],
      "metadata": {
        "id": "Q0dSC-LMzXXB"
      },
      "execution_count": null,
      "outputs": []
    },
    {
      "cell_type": "code",
      "source": [
        "model = Sequential([layers.SimpleRNN(50,input_shape=(60,1)),\n",
        "                    layers.Dense(1)])"
      ],
      "metadata": {
        "id": "bqJzyMxzzZMW"
      },
      "execution_count": null,
      "outputs": []
    },
    {
      "cell_type": "code",
      "source": [
        "model.compile(optimizer='adam', loss='mse')"
      ],
      "metadata": {
        "id": "EknwGtsL1jZ4"
      },
      "execution_count": null,
      "outputs": []
    },
    {
      "cell_type": "code",
      "source": [
        "model.summary()"
      ],
      "metadata": {
        "colab": {
          "base_uri": "https://localhost:8080/"
        },
        "id": "ebsT1mXH1pMt",
        "outputId": "ba7ec751-88a4-4187-beae-d0e41d44238c"
      },
      "execution_count": null,
      "outputs": [
        {
          "output_type": "stream",
          "name": "stdout",
          "text": [
            "Model: \"sequential\"\n",
            "_________________________________________________________________\n",
            " Layer (type)                Output Shape              Param #   \n",
            "=================================================================\n",
            " simple_rnn (SimpleRNN)      (None, 50)                2600      \n",
            "                                                                 \n",
            " dense (Dense)               (None, 1)                 51        \n",
            "                                                                 \n",
            "=================================================================\n",
            "Total params: 2651 (10.36 KB)\n",
            "Trainable params: 2651 (10.36 KB)\n",
            "Non-trainable params: 0 (0.00 Byte)\n",
            "_________________________________________________________________\n"
          ]
        }
      ]
    },
    {
      "cell_type": "code",
      "source": [
        "print(\"Developed By: KANISHKAR M\")\n",
        "print(\"Reg NO: 212222240044\")\n",
        "model.fit(X_train1,y_train,epochs=100, batch_size=32)\n",
        "\n"
      ],
      "metadata": {
        "colab": {
          "base_uri": "https://localhost:8080/"
        },
        "id": "T7fWvdeg1wgV",
        "outputId": "0c58c38c-2613-4ffe-be02-90ebe7ea942c"
      },
      "execution_count": null,
      "outputs": [
        {
          "output_type": "stream",
          "name": "stdout",
          "text": [
            "Developed By: KANISHKAR M\n",
            "Reg NO: 212222240044\n",
            "Epoch 1/100\n",
            "38/38 [==============================] - 2s 14ms/step - loss: 0.0058\n",
            "Epoch 2/100\n",
            "38/38 [==============================] - 1s 14ms/step - loss: 5.0739e-04\n",
            "Epoch 3/100\n",
            "38/38 [==============================] - 1s 15ms/step - loss: 4.3962e-04\n",
            "Epoch 4/100\n",
            "38/38 [==============================] - 1s 14ms/step - loss: 4.0221e-04\n",
            "Epoch 5/100\n",
            "38/38 [==============================] - 1s 14ms/step - loss: 3.7282e-04\n",
            "Epoch 6/100\n",
            "38/38 [==============================] - 1s 13ms/step - loss: 4.4622e-04\n",
            "Epoch 7/100\n",
            "38/38 [==============================] - 0s 12ms/step - loss: 3.5164e-04\n",
            "Epoch 8/100\n",
            "38/38 [==============================] - 1s 19ms/step - loss: 4.4171e-04\n",
            "Epoch 9/100\n",
            "38/38 [==============================] - 1s 18ms/step - loss: 3.0897e-04\n",
            "Epoch 10/100\n",
            "38/38 [==============================] - 1s 23ms/step - loss: 3.2627e-04\n",
            "Epoch 11/100\n",
            "38/38 [==============================] - 1s 20ms/step - loss: 2.7686e-04\n",
            "Epoch 12/100\n",
            "38/38 [==============================] - 0s 11ms/step - loss: 3.1768e-04\n",
            "Epoch 13/100\n",
            "38/38 [==============================] - 0s 11ms/step - loss: 2.8931e-04\n",
            "Epoch 14/100\n",
            "38/38 [==============================] - 0s 11ms/step - loss: 2.6597e-04\n",
            "Epoch 15/100\n",
            "38/38 [==============================] - 0s 11ms/step - loss: 2.6172e-04\n",
            "Epoch 16/100\n",
            "38/38 [==============================] - 0s 11ms/step - loss: 2.7801e-04\n",
            "Epoch 17/100\n",
            "38/38 [==============================] - 0s 12ms/step - loss: 2.6661e-04\n",
            "Epoch 18/100\n",
            "38/38 [==============================] - 1s 14ms/step - loss: 3.2153e-04\n",
            "Epoch 19/100\n",
            "38/38 [==============================] - 0s 13ms/step - loss: 2.5809e-04\n",
            "Epoch 20/100\n",
            "38/38 [==============================] - 0s 12ms/step - loss: 2.6184e-04\n",
            "Epoch 21/100\n",
            "38/38 [==============================] - 0s 11ms/step - loss: 2.4792e-04\n",
            "Epoch 22/100\n",
            "38/38 [==============================] - 0s 11ms/step - loss: 2.7022e-04\n",
            "Epoch 23/100\n",
            "38/38 [==============================] - 0s 11ms/step - loss: 2.5543e-04\n",
            "Epoch 24/100\n",
            "38/38 [==============================] - 0s 11ms/step - loss: 2.4457e-04\n",
            "Epoch 25/100\n",
            "38/38 [==============================] - 0s 11ms/step - loss: 2.4072e-04\n",
            "Epoch 26/100\n",
            "38/38 [==============================] - 0s 12ms/step - loss: 2.4940e-04\n",
            "Epoch 27/100\n",
            "38/38 [==============================] - 0s 13ms/step - loss: 2.3729e-04\n",
            "Epoch 28/100\n",
            "38/38 [==============================] - 0s 12ms/step - loss: 2.8499e-04\n",
            "Epoch 29/100\n",
            "38/38 [==============================] - 0s 11ms/step - loss: 2.3823e-04\n",
            "Epoch 30/100\n",
            "38/38 [==============================] - 0s 11ms/step - loss: 3.0123e-04\n",
            "Epoch 31/100\n",
            "38/38 [==============================] - 0s 11ms/step - loss: 2.3167e-04\n",
            "Epoch 32/100\n",
            "38/38 [==============================] - 0s 11ms/step - loss: 2.7888e-04\n",
            "Epoch 33/100\n",
            "38/38 [==============================] - 0s 12ms/step - loss: 2.1800e-04\n",
            "Epoch 34/100\n",
            "38/38 [==============================] - 1s 21ms/step - loss: 2.6799e-04\n",
            "Epoch 35/100\n",
            "38/38 [==============================] - 1s 18ms/step - loss: 2.3075e-04\n",
            "Epoch 36/100\n",
            "38/38 [==============================] - 1s 20ms/step - loss: 2.3635e-04\n",
            "Epoch 37/100\n",
            "38/38 [==============================] - 1s 21ms/step - loss: 2.0596e-04\n",
            "Epoch 38/100\n",
            "38/38 [==============================] - 1s 13ms/step - loss: 2.3948e-04\n",
            "Epoch 39/100\n",
            "38/38 [==============================] - 0s 11ms/step - loss: 2.5440e-04\n",
            "Epoch 40/100\n",
            "38/38 [==============================] - 0s 11ms/step - loss: 2.1960e-04\n",
            "Epoch 41/100\n",
            "38/38 [==============================] - 0s 11ms/step - loss: 2.2269e-04\n",
            "Epoch 42/100\n",
            "38/38 [==============================] - 0s 11ms/step - loss: 2.5228e-04\n",
            "Epoch 43/100\n",
            "38/38 [==============================] - 0s 11ms/step - loss: 2.5920e-04\n",
            "Epoch 44/100\n",
            "38/38 [==============================] - 0s 13ms/step - loss: 2.2506e-04\n",
            "Epoch 45/100\n",
            "38/38 [==============================] - 1s 13ms/step - loss: 2.1901e-04\n",
            "Epoch 46/100\n",
            "38/38 [==============================] - 1s 14ms/step - loss: 2.1539e-04\n",
            "Epoch 47/100\n",
            "38/38 [==============================] - 1s 14ms/step - loss: 2.3555e-04\n",
            "Epoch 48/100\n",
            "38/38 [==============================] - 0s 11ms/step - loss: 1.9559e-04\n",
            "Epoch 49/100\n",
            "38/38 [==============================] - 0s 12ms/step - loss: 1.9668e-04\n",
            "Epoch 50/100\n",
            "38/38 [==============================] - 0s 12ms/step - loss: 2.1216e-04\n",
            "Epoch 51/100\n",
            "38/38 [==============================] - 0s 13ms/step - loss: 2.3950e-04\n",
            "Epoch 52/100\n",
            "38/38 [==============================] - 0s 12ms/step - loss: 2.0145e-04\n",
            "Epoch 53/100\n",
            "38/38 [==============================] - 1s 13ms/step - loss: 2.3256e-04\n",
            "Epoch 54/100\n",
            "38/38 [==============================] - 0s 12ms/step - loss: 2.0040e-04\n",
            "Epoch 55/100\n",
            "38/38 [==============================] - 1s 13ms/step - loss: 1.9622e-04\n",
            "Epoch 56/100\n",
            "38/38 [==============================] - 0s 12ms/step - loss: 2.0599e-04\n",
            "Epoch 57/100\n",
            "38/38 [==============================] - 0s 11ms/step - loss: 2.2199e-04\n",
            "Epoch 58/100\n",
            "38/38 [==============================] - 0s 12ms/step - loss: 1.9498e-04\n",
            "Epoch 59/100\n",
            "38/38 [==============================] - 1s 15ms/step - loss: 1.9241e-04\n",
            "Epoch 60/100\n",
            "38/38 [==============================] - 1s 19ms/step - loss: 1.8274e-04\n",
            "Epoch 61/100\n",
            "38/38 [==============================] - 1s 17ms/step - loss: 2.1337e-04\n",
            "Epoch 62/100\n",
            "38/38 [==============================] - 1s 18ms/step - loss: 1.8574e-04\n",
            "Epoch 63/100\n",
            "38/38 [==============================] - 1s 17ms/step - loss: 1.8011e-04\n",
            "Epoch 64/100\n",
            "38/38 [==============================] - 0s 11ms/step - loss: 1.9893e-04\n",
            "Epoch 65/100\n",
            "38/38 [==============================] - 0s 11ms/step - loss: 1.9054e-04\n",
            "Epoch 66/100\n",
            "38/38 [==============================] - 0s 11ms/step - loss: 2.2278e-04\n",
            "Epoch 67/100\n",
            "38/38 [==============================] - 0s 12ms/step - loss: 1.8452e-04\n",
            "Epoch 68/100\n",
            "38/38 [==============================] - 0s 11ms/step - loss: 2.3592e-04\n",
            "Epoch 69/100\n",
            "38/38 [==============================] - 0s 11ms/step - loss: 1.8891e-04\n",
            "Epoch 70/100\n",
            "38/38 [==============================] - 0s 13ms/step - loss: 1.8022e-04\n",
            "Epoch 71/100\n",
            "38/38 [==============================] - 0s 13ms/step - loss: 2.0156e-04\n",
            "Epoch 72/100\n",
            "38/38 [==============================] - 0s 12ms/step - loss: 1.9190e-04\n",
            "Epoch 73/100\n",
            "38/38 [==============================] - 0s 11ms/step - loss: 1.7836e-04\n",
            "Epoch 74/100\n",
            "38/38 [==============================] - 0s 11ms/step - loss: 1.9329e-04\n",
            "Epoch 75/100\n",
            "38/38 [==============================] - 0s 11ms/step - loss: 1.8312e-04\n",
            "Epoch 76/100\n",
            "38/38 [==============================] - 0s 12ms/step - loss: 1.8069e-04\n",
            "Epoch 77/100\n",
            "38/38 [==============================] - 1s 13ms/step - loss: 1.8522e-04\n",
            "Epoch 78/100\n",
            "38/38 [==============================] - 1s 15ms/step - loss: 1.7053e-04\n",
            "Epoch 79/100\n",
            "38/38 [==============================] - 1s 13ms/step - loss: 1.8403e-04\n",
            "Epoch 80/100\n",
            "38/38 [==============================] - 0s 13ms/step - loss: 1.7664e-04\n",
            "Epoch 81/100\n",
            "38/38 [==============================] - 0s 12ms/step - loss: 1.8657e-04\n",
            "Epoch 82/100\n",
            "38/38 [==============================] - 0s 12ms/step - loss: 1.7234e-04\n",
            "Epoch 83/100\n",
            "38/38 [==============================] - 1s 13ms/step - loss: 1.7045e-04\n",
            "Epoch 84/100\n",
            "38/38 [==============================] - 0s 13ms/step - loss: 1.6857e-04\n",
            "Epoch 85/100\n",
            "38/38 [==============================] - 1s 22ms/step - loss: 1.7706e-04\n",
            "Epoch 86/100\n",
            "38/38 [==============================] - 1s 22ms/step - loss: 1.7627e-04\n",
            "Epoch 87/100\n",
            "38/38 [==============================] - 1s 23ms/step - loss: 1.7490e-04\n",
            "Epoch 88/100\n",
            "38/38 [==============================] - 1s 21ms/step - loss: 1.8538e-04\n",
            "Epoch 89/100\n",
            "38/38 [==============================] - 1s 13ms/step - loss: 1.6332e-04\n",
            "Epoch 90/100\n",
            "38/38 [==============================] - 1s 14ms/step - loss: 1.6679e-04\n",
            "Epoch 91/100\n",
            "38/38 [==============================] - 1s 14ms/step - loss: 1.9351e-04\n",
            "Epoch 92/100\n",
            "38/38 [==============================] - 0s 13ms/step - loss: 1.9135e-04\n",
            "Epoch 93/100\n",
            "38/38 [==============================] - 0s 11ms/step - loss: 1.6536e-04\n",
            "Epoch 94/100\n",
            "38/38 [==============================] - 0s 11ms/step - loss: 1.7820e-04\n",
            "Epoch 95/100\n",
            "38/38 [==============================] - 0s 12ms/step - loss: 1.7422e-04\n",
            "Epoch 96/100\n",
            "38/38 [==============================] - 0s 11ms/step - loss: 2.0117e-04\n",
            "Epoch 97/100\n",
            "38/38 [==============================] - 0s 12ms/step - loss: 1.7451e-04\n",
            "Epoch 98/100\n",
            "38/38 [==============================] - 0s 11ms/step - loss: 1.8139e-04\n",
            "Epoch 99/100\n",
            "38/38 [==============================] - 0s 12ms/step - loss: 1.8143e-04\n",
            "Epoch 100/100\n",
            "38/38 [==============================] - 0s 11ms/step - loss: 1.6643e-04\n"
          ]
        },
        {
          "output_type": "execute_result",
          "data": {
            "text/plain": [
              "<keras.src.callbacks.History at 0x7a7c800fc6a0>"
            ]
          },
          "metadata": {},
          "execution_count": 16
        }
      ]
    },
    {
      "cell_type": "code",
      "source": [
        "dataset_test = pd.read_csv('testset.csv')"
      ],
      "metadata": {
        "id": "fKWP3IEY10Y_"
      },
      "execution_count": null,
      "outputs": []
    },
    {
      "cell_type": "code",
      "source": [
        "test_set = dataset_test.iloc[:,1:2].values"
      ],
      "metadata": {
        "id": "5_NH5cO82KvW"
      },
      "execution_count": null,
      "outputs": []
    },
    {
      "cell_type": "code",
      "source": [
        "test_set.shape"
      ],
      "metadata": {
        "colab": {
          "base_uri": "https://localhost:8080/"
        },
        "id": "v4oGlb4o2QgY",
        "outputId": "5e7dbf20-9fb7-46e3-db56-676aa681e96b"
      },
      "execution_count": null,
      "outputs": [
        {
          "output_type": "execute_result",
          "data": {
            "text/plain": [
              "(125, 1)"
            ]
          },
          "metadata": {},
          "execution_count": 20
        }
      ]
    },
    {
      "cell_type": "code",
      "source": [
        "dataset_total = pd.concat((dataset_train['Open'],dataset_test['Open']),axis=0)"
      ],
      "metadata": {
        "id": "AUr7PuYE2Ssf"
      },
      "execution_count": null,
      "outputs": []
    },
    {
      "cell_type": "code",
      "source": [
        "inputs = dataset_total.values\n",
        "inputs = inputs.reshape(-1,1)\n",
        "inputs_scaled=sc.transform(inputs)\n",
        "X_test = []\n",
        "y_test=[]\n",
        "for i in range(60,1384):\n",
        "  X_test.append(inputs_scaled[i-60:i,0])\n",
        "  y_test.append(inputs_scaled[i,0])\n",
        "X_test = np.array(X_test)\n",
        "X_test = np.reshape(X_test,(X_test.shape[0], X_test.shape[1],1))"
      ],
      "metadata": {
        "id": "hvOEEwdN2VkN"
      },
      "execution_count": null,
      "outputs": []
    },
    {
      "cell_type": "code",
      "source": [
        "X_test.shape"
      ],
      "metadata": {
        "colab": {
          "base_uri": "https://localhost:8080/"
        },
        "id": "pFDSs_Zl2pfv",
        "outputId": "d7ab56d4-fcb4-404e-fa31-221c4162db82"
      },
      "execution_count": null,
      "outputs": [
        {
          "output_type": "execute_result",
          "data": {
            "text/plain": [
              "(1324, 60, 1)"
            ]
          },
          "metadata": {},
          "execution_count": 23
        }
      ]
    },
    {
      "cell_type": "code",
      "source": [
        "predicted_stock_price_scaled = model.predict(X_test)\n",
        "predicted_stock_price = sc.inverse_transform(predicted_stock_price_scaled)"
      ],
      "metadata": {
        "colab": {
          "base_uri": "https://localhost:8080/"
        },
        "id": "-EbbhBD92sWS",
        "outputId": "559b4118-90ff-4691-9984-c493b667cb42"
      },
      "execution_count": null,
      "outputs": [
        {
          "output_type": "stream",
          "name": "stdout",
          "text": [
            "42/42 [==============================] - 0s 6ms/step\n"
          ]
        }
      ]
    },
    {
      "cell_type": "code",
      "source": [
        "print(\"Developed By: KANISHKAR M\")\n",
        "print(\"Reg NO: 212222240044\")\n",
        "plt.plot(np.arange(0,1384),inputs, color='darkorchid', label = 'Test(Real) Google stock price')\n",
        "plt.plot(np.arange(60,1384),predicted_stock_price, color='chartreuse', label = 'Predicted Google stock price')\n",
        "plt.title('Google Stock Price Prediction')\n",
        "plt.xlabel('Time')\n",
        "plt.ylabel('Google Stock Price')\n",
        "plt.legend()\n",
        "plt.show()"
      ],
      "metadata": {
        "colab": {
          "base_uri": "https://localhost:8080/",
          "height": 508
        },
        "id": "MYOcSMKO2u1D",
        "outputId": "5926f98a-ff85-4bc5-d3ae-dcb1e4224e63"
      },
      "execution_count": null,
      "outputs": [
        {
          "output_type": "stream",
          "name": "stdout",
          "text": [
            "Developed By: KANISHKAR M\n",
            "Reg NO: 212222240044\n"
          ]
        },
        {
          "output_type": "display_data",
          "data": {
            "text/plain": [
              "<Figure size 640x480 with 1 Axes>"
            ],
            "image/png": "[encoded data removed]"
          },
          "metadata": {}
        }
      ]
    },
    {
      "cell_type": "code",
      "source": [
        "print(\"Developed By: KANISHKAR M\")\n",
        "print(\"Reg NO: 212222240044\")\n",
        "from sklearn.metrics import mean_squared_error as mse\n",
        "mse(y_test,predicted_stock_price)"
      ],
      "metadata": {
        "colab": {
          "base_uri": "https://localhost:8080/"
        },
        "id": "rCv38NJU2xnK",
        "outputId": "d3af8b29-5479-4e95-d081-9a237a08be5e"
      },
      "execution_count": null,
      "outputs": [
        {
          "output_type": "stream",
          "name": "stdout",
          "text": [
            "Developed By: KANISHKAR M\n",
            "Reg NO: 212222240044\n"
          ]
        },
        {
          "output_type": "execute_result",
          "data": {
            "text/plain": [
              "538508.1754591047"
            ]
          },
          "metadata": {},
          "execution_count": 27
        }
      ]
    },
    {
      "cell_type": "code",
      "source": [],
      "metadata": {
        "id": "1qwcRdNn3-E7"
      },
      "execution_count": null,
      "outputs": []
    }
  ]
}
